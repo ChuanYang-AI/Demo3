{
 "cells": [
  {
   "cell_type": "code",
   "execution_count": 1,
   "id": "d603b1b9-ec4e-4300-92a7-b4194dc50c04",
   "metadata": {
    "tags": []
   },
   "outputs": [],
   "source": [
    "!pip3 install --upgrade --user --quiet google-cloud-aiplatform\n"
   ]
  },
  {
   "cell_type": "code",
   "execution_count": 2,
   "id": "3f4dd23f-d18e-4ac9-b698-2ccf0e304635",
   "metadata": {
    "tags": []
   },
   "outputs": [
    {
     "name": "stdout",
     "output_type": "stream",
     "text": [
      "✅ Vertex AI 初始化完成 - 项目: cy-aispeci-demo, 区域: asia-east2\n"
     ]
    }
   ],
   "source": [
    "project_id_output = !gcloud config list --format 'value(core.project)' 2>/dev/null\n",
    "PROJECT_ID = project_id_output[0]\n",
    "REGION = !gcloud compute project-info describe --format=\"value[](commonInstanceMetadata.items.google-compute-default-region)\"\n",
    "LOCATION = \"asia-east2\"\n",
    "\n",
    "BUCKET_NAME = f\"{PROJECT_ID}-model-dataset\"\n",
    "# BUCKET_URI = f\"gs://{BUCKET_NAME}\"\n",
    "BUCKET_URI = \"gs://peft-model-cy-aispeci-demo\"\n",
    "\n",
    "import vertexai\n",
    "from vertexai.generative_models import (\n",
    "    GenerativeModel,\n",
    "    Part,\n",
    "    HarmCategory,\n",
    "    HarmBlockThreshold,\n",
    "    GenerationConfig,\n",
    ")\n",
    "from vertexai.preview.tuning import sft\n",
    "from typing import Union\n",
    "import pandas as pd\n",
    "from google.cloud import bigquery\n",
    "from sklearn.model_selection import train_test_split\n",
    "import datetime\n",
    "import time\n",
    "local_train_file = \"hotel_train_data.jsonl\"\n",
    "local_validation_file = \"hotel_validation_data.jsonl\"\n",
    "vertexai.init(project=PROJECT_ID, location=LOCATION)\n",
    "print(f\"✅ Vertex AI 初始化完成 - 项目: {PROJECT_ID}, 区域: {LOCATION}\")\n",
    "\n",
    "\n",
    "train_dataset_uri = f\"gs://peft-model-cy-aispeci-demo/hotel_train_data.jsonl\"\n",
    "validation_dataset_uri = f\"gs://peft-model-cy-aispeci-demo/hotel_validation_data.jsonl\""
   ]
  },
  {
   "cell_type": "code",
   "execution_count": 4,
   "id": "189f06b0-45f4-42cb-a1b6-f4f6d760136d",
   "metadata": {
    "tags": []
   },
   "outputs": [
    {
     "name": "stdout",
     "output_type": "stream",
     "text": [
      "Creating SupervisedTuningJob\n",
      "SupervisedTuningJob created. Resource name: projects/704352985590/locations/asia-east2/tuningJobs/1130893888655982592\n",
      "To use this SupervisedTuningJob in another session:\n",
      "tuning_job = sft.SupervisedTuningJob('projects/704352985590/locations/asia-east2/tuningJobs/1130893888655982592')\n",
      "View Tuning Job:\n",
      "https://console.cloud.google.com/vertex-ai/generative/language/locations/asia-east2/tuning/tuningJob/1130893888655982592?project=704352985590\n"
     ]
    },
    {
     "data": {
      "text/html": [
       "\n",
       "        \n",
       "    <link rel=\"stylesheet\" href=\"https://fonts.googleapis.com/icon?family=Material+Icons\">\n",
       "    <style>\n",
       "      .view-vertex-resource,\n",
       "      .view-vertex-resource:hover,\n",
       "      .view-vertex-resource:visited {\n",
       "        position: relative;\n",
       "        display: inline-flex;\n",
       "        flex-direction: row;\n",
       "        height: 32px;\n",
       "        padding: 0 12px;\n",
       "          margin: 4px 18px;\n",
       "        gap: 4px;\n",
       "        border-radius: 4px;\n",
       "\n",
       "        align-items: center;\n",
       "        justify-content: center;\n",
       "        background-color: rgb(255, 255, 255);\n",
       "        color: rgb(51, 103, 214);\n",
       "\n",
       "        font-family: Roboto,\"Helvetica Neue\",sans-serif;\n",
       "        font-size: 13px;\n",
       "        font-weight: 500;\n",
       "        text-transform: uppercase;\n",
       "        text-decoration: none !important;\n",
       "\n",
       "        transition: box-shadow 280ms cubic-bezier(0.4, 0, 0.2, 1) 0s;\n",
       "        box-shadow: 0px 3px 1px -2px rgba(0,0,0,0.2), 0px 2px 2px 0px rgba(0,0,0,0.14), 0px 1px 5px 0px rgba(0,0,0,0.12);\n",
       "      }\n",
       "      .view-vertex-resource:active {\n",
       "        box-shadow: 0px 5px 5px -3px rgba(0,0,0,0.2),0px 8px 10px 1px rgba(0,0,0,0.14),0px 3px 14px 2px rgba(0,0,0,0.12);\n",
       "      }\n",
       "      .view-vertex-resource:active .view-vertex-ripple::before {\n",
       "        position: absolute;\n",
       "        top: 0;\n",
       "        bottom: 0;\n",
       "        left: 0;\n",
       "        right: 0;\n",
       "        border-radius: 4px;\n",
       "        pointer-events: none;\n",
       "\n",
       "        content: '';\n",
       "        background-color: rgb(51, 103, 214);\n",
       "        opacity: 0.12;\n",
       "      }\n",
       "      .view-vertex-icon {\n",
       "        font-size: 18px;\n",
       "      }\n",
       "    </style>\n",
       "  \n",
       "        <a class=\"view-vertex-resource\" id=\"view-vertex-resource-62d95ae8-9acd-48d7-95e8-8891de9b1bba\" href=\"#view-view-vertex-resource-62d95ae8-9acd-48d7-95e8-8891de9b1bba\">\n",
       "          <span class=\"material-icons view-vertex-icon\">tune</span>\n",
       "          <span>View Tuning Job</span>\n",
       "        </a>\n",
       "        \n",
       "        <script>\n",
       "          (function () {\n",
       "            const link = document.getElementById('view-vertex-resource-62d95ae8-9acd-48d7-95e8-8891de9b1bba');\n",
       "            link.addEventListener('click', (e) => {\n",
       "              if (window.google?.colab?.openUrl) {\n",
       "                window.google.colab.openUrl('https://console.cloud.google.com/vertex-ai/generative/language/locations/asia-east2/tuning/tuningJob/1130893888655982592?project=704352985590');\n",
       "              } else {\n",
       "                window.open('https://console.cloud.google.com/vertex-ai/generative/language/locations/asia-east2/tuning/tuningJob/1130893888655982592?project=704352985590', '_blank');\n",
       "              }\n",
       "              e.stopPropagation();\n",
       "              e.preventDefault();\n",
       "            });\n",
       "          })();\n",
       "        </script>\n",
       "    "
      ],
      "text/plain": [
       "<IPython.core.display.HTML object>"
      ]
     },
     "metadata": {},
     "output_type": "display_data"
    }
   ],
   "source": [
    "sft_tuning_job = sft.train(\n",
    "                source_model=\"gemini-1.5-pro-002\",\n",
    "                train_dataset=train_dataset_uri,\n",
    "                validation_dataset=validation_dataset_uri,\n",
    "                epochs=3,\n",
    "                learning_rate_multiplier=1.0,\n",
    "                tuned_model_display_name=\"Hotel assiant-Gemini Tuning Job\"\n",
    "            )"
   ]
  },
  {
   "cell_type": "code",
   "execution_count": null,
   "id": "435a626d-86e5-47cc-b370-fe4af8d8d570",
   "metadata": {},
   "outputs": [],
   "source": [
    "sft_tuning_job_name = sft_tuning_job.resource_name\n",
    "sft_tuning_job_name\n",
    "while not sft_tuning_job.refresh().has_ended:\n",
    "    time.sleep(60)\n",
    "sft_tuning_job.list()\n",
    "tuned_model_endpoint = sft_tuning_job.tuned_model_endpoint_name\n",
    "print(tuned_model_endpoint)\n",
    "tuned_model = GenerativeModel(tuned_model_endpoint)"
   ]
  }
 ],
 "metadata": {
  "environment": {
   "kernel": "conda-base-py",
   "name": "workbench-notebooks.m130",
   "type": "gcloud",
   "uri": "us-docker.pkg.dev/deeplearning-platform-release/gcr.io/workbench-notebooks:m130"
  },
  "kernelspec": {
   "display_name": "Python 3 (ipykernel) (Local)",
   "language": "python",
   "name": "conda-base-py"
  },
  "language_info": {
   "codemirror_mode": {
    "name": "ipython",
    "version": 3
   },
   "file_extension": ".py",
   "mimetype": "text/x-python",
   "name": "python",
   "nbconvert_exporter": "python",
   "pygments_lexer": "ipython3",
   "version": "3.10.18"
  }
 },
 "nbformat": 4,
 "nbformat_minor": 5
}
